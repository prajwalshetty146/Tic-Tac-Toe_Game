{
 "cells": [
  {
   "cell_type": "code",
   "execution_count": 1,
   "id": "9488a3ff",
   "metadata": {},
   "outputs": [],
   "source": [
    "from IPython.display import clear_output\n",
    "def display(board):\n",
    "    clear_output()\n",
    "    print('  |   |  ')\n",
    "    print(' '+board[7]+'|' + board[8] + '|' + board[9])\n",
    "    print('  |   |  ')\n",
    "    print(' '+board[4]+'|' + board[5] + '|' + board[6])\n",
    "    print('  |   |  ')\n",
    "    print(' '+board[1]+'|' + board[2] + '|' + board[3])\n",
    "    print('  |   |  ')"
   ]
  },
  {
   "cell_type": "code",
   "execution_count": null,
   "id": "83479219",
   "metadata": {},
   "outputs": [],
   "source": [
    "test_board= ['#','X','O','X','O','X','O','X','O','X']\n",
    "display(test_board)"
   ]
  },
  {
   "cell_type": "code",
   "execution_count": 3,
   "id": "5e9f51be",
   "metadata": {},
   "outputs": [],
   "source": [
    "def user_team():\n",
    "    XorO=''\n",
    "    while not (XorO =='X'or XorO== 'O'):\n",
    "        XorO = input('''Which one does Player 1 choose to be\n",
    "                \"X\" or \"O\":''').upper()\n",
    "    if XorO == 'X':\n",
    "        return ('X', 'O')\n",
    "    else:\n",
    "        return ('O', 'X')"
   ]
  },
  {
   "cell_type": "code",
   "execution_count": 4,
   "id": "3071772f",
   "metadata": {},
   "outputs": [
    {
     "name": "stdout",
     "output_type": "stream",
     "text": [
      "Which one does Player 1 choose to be\n",
      "                \"X\" or \"O\":x\n"
     ]
    }
   ],
   "source": [
    "player1_marker, player2_marker = user_team()"
   ]
  },
  {
   "cell_type": "code",
   "execution_count": 5,
   "id": "ad74808a",
   "metadata": {},
   "outputs": [],
   "source": [
    "def place_marker(board, position, XorO):\n",
    "    board[position] = XorO"
   ]
  },
  {
   "cell_type": "code",
   "execution_count": 6,
   "id": "c5f9572b",
   "metadata": {},
   "outputs": [],
   "source": [
    "place_marker(test_board, 3, '8')"
   ]
  },
  {
   "cell_type": "code",
   "execution_count": 7,
   "id": "13d1e62c",
   "metadata": {},
   "outputs": [
    {
     "name": "stdout",
     "output_type": "stream",
     "text": [
      "X|O|X\n",
      "O|X|O\n",
      "X|O|8\n"
     ]
    }
   ],
   "source": [
    "display(test_board)"
   ]
  },
  {
   "cell_type": "code",
   "execution_count": 8,
   "id": "1c15cde3",
   "metadata": {},
   "outputs": [],
   "source": [
    "def win_check(board, mark):\n",
    "    return ((board[1]==board[2]==board[3]==mark) or\n",
    "    (board[4]==board[5]==board[6]==mark) or\n",
    "    (board[7]==board[8]==board[9]==mark) or\n",
    "    (board[1]==board[4]==board[7]==mark) or\n",
    "    (board[2]==board[5]==board[8]==mark) or\n",
    "    (board[3]==board[6]==board[9]==mark )or\n",
    "    (board[1]==board[5]==board[9]==mark) or\n",
    "    (board[3]==board[5]==board[7]==mark))\n",
    "    \n",
    "    "
   ]
  },
  {
   "cell_type": "code",
   "execution_count": 9,
   "id": "68376f8a",
   "metadata": {},
   "outputs": [
    {
     "data": {
      "text/plain": [
       "True"
      ]
     },
     "execution_count": 9,
     "metadata": {},
     "output_type": "execute_result"
    }
   ],
   "source": [
    "win_check(test_board, 'X')"
   ]
  },
  {
   "cell_type": "code",
   "execution_count": 10,
   "id": "79c360e4",
   "metadata": {},
   "outputs": [],
   "source": [
    "import random\n",
    "\n",
    "def choose_first():\n",
    "    first = random.randint(0 , 1)\n",
    "    if first == 0:\n",
    "        return 'Player 1'\n",
    "    else:\n",
    "        return 'Player 2'"
   ]
  },
  {
   "cell_type": "code",
   "execution_count": 11,
   "id": "356711cb",
   "metadata": {},
   "outputs": [
    {
     "data": {
      "text/plain": [
       "'Player 1'"
      ]
     },
     "execution_count": 11,
     "metadata": {},
     "output_type": "execute_result"
    }
   ],
   "source": [
    "choose_first()"
   ]
  },
  {
   "cell_type": "code",
   "execution_count": 20,
   "id": "3a5755e0",
   "metadata": {},
   "outputs": [],
   "source": [
    "def space_check(board, position):\n",
    "    return board[position]==' '\n",
    "    "
   ]
  },
  {
   "cell_type": "code",
   "execution_count": 27,
   "id": "5cc847f7",
   "metadata": {},
   "outputs": [],
   "source": [
    "def full_check(board):\n",
    "    for i in range(1,10):\n",
    "        if space_check(board, i):\n",
    "            return False\n",
    "    return True"
   ]
  },
  {
   "cell_type": "code",
   "execution_count": 22,
   "id": "58a10af7",
   "metadata": {},
   "outputs": [
    {
     "data": {
      "text/plain": [
       "False"
      ]
     },
     "execution_count": 22,
     "metadata": {},
     "output_type": "execute_result"
    }
   ],
   "source": [
    "space_check(test_board, 5)"
   ]
  },
  {
   "cell_type": "code",
   "execution_count": 26,
   "id": "41eed1cb",
   "metadata": {},
   "outputs": [],
   "source": [
    "def player_choice(board):\n",
    "    position=0\n",
    "    while position not in [1,2,3,4,5,6,7,8,9] or not space_check(board, position):\n",
    "        position=int(input('Choose position between 1-9: '))\n",
    "    return position"
   ]
  },
  {
   "cell_type": "code",
   "execution_count": 24,
   "id": "1e7d95e7",
   "metadata": {},
   "outputs": [
    {
     "name": "stdout",
     "output_type": "stream",
     "text": [
      "Choose position between 1-9: 4\n",
      "Choose position between 1-9: 5\n",
      "Choose position between 1-9: l\n"
     ]
    },
    {
     "ename": "ValueError",
     "evalue": "invalid literal for int() with base 10: 'l'",
     "output_type": "error",
     "traceback": [
      "\u001b[1;31m---------------------------------------------------------------------------\u001b[0m",
      "\u001b[1;31mValueError\u001b[0m                                Traceback (most recent call last)",
      "\u001b[1;32mC:\\Users\\PRAJWA~1\\AppData\\Local\\Temp/ipykernel_8616/4132180111.py\u001b[0m in \u001b[0;36m<module>\u001b[1;34m\u001b[0m\n\u001b[1;32m----> 1\u001b[1;33m \u001b[0mplayer_choice\u001b[0m\u001b[1;33m(\u001b[0m\u001b[0mtest_board\u001b[0m\u001b[1;33m)\u001b[0m\u001b[1;33m\u001b[0m\u001b[1;33m\u001b[0m\u001b[0m\n\u001b[0m",
      "\u001b[1;32mC:\\Users\\PRAJWA~1\\AppData\\Local\\Temp/ipykernel_8616/1686847444.py\u001b[0m in \u001b[0;36mplayer_choice\u001b[1;34m(board)\u001b[0m\n\u001b[0;32m      2\u001b[0m     \u001b[0mposition\u001b[0m\u001b[1;33m=\u001b[0m\u001b[1;36m0\u001b[0m\u001b[1;33m\u001b[0m\u001b[1;33m\u001b[0m\u001b[0m\n\u001b[0;32m      3\u001b[0m     \u001b[1;32mwhile\u001b[0m \u001b[0mposition\u001b[0m \u001b[1;32mnot\u001b[0m \u001b[1;32min\u001b[0m \u001b[1;33m[\u001b[0m\u001b[1;36m1\u001b[0m\u001b[1;33m,\u001b[0m\u001b[1;36m2\u001b[0m\u001b[1;33m,\u001b[0m\u001b[1;36m3\u001b[0m\u001b[1;33m,\u001b[0m\u001b[1;36m4\u001b[0m\u001b[1;33m,\u001b[0m\u001b[1;36m5\u001b[0m\u001b[1;33m,\u001b[0m\u001b[1;36m6\u001b[0m\u001b[1;33m,\u001b[0m\u001b[1;36m7\u001b[0m\u001b[1;33m,\u001b[0m\u001b[1;36m8\u001b[0m\u001b[1;33m,\u001b[0m\u001b[1;36m9\u001b[0m\u001b[1;33m]\u001b[0m \u001b[1;32mor\u001b[0m \u001b[1;32mnot\u001b[0m \u001b[0mspace_check\u001b[0m\u001b[1;33m(\u001b[0m\u001b[0mboard\u001b[0m\u001b[1;33m,\u001b[0m \u001b[0mposition\u001b[0m\u001b[1;33m)\u001b[0m\u001b[1;33m:\u001b[0m\u001b[1;33m\u001b[0m\u001b[1;33m\u001b[0m\u001b[0m\n\u001b[1;32m----> 4\u001b[1;33m         \u001b[0mposition\u001b[0m\u001b[1;33m=\u001b[0m\u001b[0mint\u001b[0m\u001b[1;33m(\u001b[0m\u001b[0minput\u001b[0m\u001b[1;33m(\u001b[0m\u001b[1;34m'Choose position between 1-9: '\u001b[0m\u001b[1;33m)\u001b[0m\u001b[1;33m)\u001b[0m\u001b[1;33m\u001b[0m\u001b[1;33m\u001b[0m\u001b[0m\n\u001b[0m\u001b[0;32m      5\u001b[0m     \u001b[1;32mreturn\u001b[0m \u001b[0mposition\u001b[0m\u001b[1;33m\u001b[0m\u001b[1;33m\u001b[0m\u001b[0m\n",
      "\u001b[1;31mValueError\u001b[0m: invalid literal for int() with base 10: 'l'"
     ]
    }
   ],
   "source": [
    "player_choice(test_board)"
   ]
  },
  {
   "cell_type": "code",
   "execution_count": 30,
   "id": "262e61cb",
   "metadata": {},
   "outputs": [],
   "source": [
    "def replay():\n",
    "    choice = input('Want to play again? \"Yes\" or \"No\"').upper()\n",
    "    return choice == 'YES'"
   ]
  },
  {
   "cell_type": "code",
   "execution_count": null,
   "id": "69a572f2",
   "metadata": {},
   "outputs": [],
   "source": [
    "replay()"
   ]
  },
  {
   "cell_type": "code",
   "execution_count": 32,
   "id": "6033a8ab",
   "metadata": {},
   "outputs": [
    {
     "name": "stdout",
     "output_type": "stream",
     "text": [
      "O|X|X\n",
      "O|X| \n",
      "O|O|X\n",
      "Player 1 has WON!!\n",
      "Want to play again? \"Yes\" or \"No\"no\n"
     ]
    }
   ],
   "source": [
    "print('Welcome to Tic Tac Toe!!')\n",
    "\n",
    "while True:\n",
    "    the_board=[' ']*10\n",
    "    player1_marker, player2_marker = user_team()\n",
    "    turn = choose_first()\n",
    "    print(f'{turn}  will go first.')\n",
    "    \n",
    "    gameon = input('Ready to Play? Y/N').upper()\n",
    "    \n",
    "    if gameon== 'Y':\n",
    "        play = True\n",
    "    else:\n",
    "        play = False\n",
    "    \n",
    "    while play:\n",
    "        if turn == 'Player 1':\n",
    "            display(the_board)\n",
    "            position = player_choice(the_board)\n",
    "            place_marker(the_board, position, player1_marker)\n",
    "            \n",
    "            if win_check(the_board, player1_marker):\n",
    "                display(the_board)\n",
    "                print('Player 1 has WON!!')\n",
    "                play= False\n",
    "            else:\n",
    "                if full_check(the_board):\n",
    "                    display(the_board)\n",
    "                    print(\"It's a TIE!!\")\n",
    "                    play=False\n",
    "                else:\n",
    "                    turn= 'Player 2'\n",
    "        \n",
    "        else:\n",
    "            display(the_board)\n",
    "            position = player_choice(the_board)\n",
    "            place_marker(the_board, position, player2_marker)\n",
    "            \n",
    "            if win_check(the_board, player2_marker):\n",
    "                display(the_board)\n",
    "                print('Player 2 has WON!!')\n",
    "                play= False\n",
    "            else:\n",
    "                if full_check(the_board):\n",
    "                    display(the_board)\n",
    "                    print(\"It's a TIE!!\")\n",
    "                    play=False\n",
    "                else:\n",
    "                    turn= 'Player 1'\n",
    "    if not replay():\n",
    "            break"
   ]
  },
  {
   "cell_type": "code",
   "execution_count": null,
   "id": "d27dd3bc",
   "metadata": {},
   "outputs": [],
   "source": [
    "\n"
   ]
  }
 ],
 "metadata": {
  "kernelspec": {
   "display_name": "Python 3 (ipykernel)",
   "language": "python",
   "name": "python3"
  },
  "language_info": {
   "codemirror_mode": {
    "name": "ipython",
    "version": 3
   },
   "file_extension": ".py",
   "mimetype": "text/x-python",
   "name": "python",
   "nbconvert_exporter": "python",
   "pygments_lexer": "ipython3",
   "version": "3.9.6"
  }
 },
 "nbformat": 4,
 "nbformat_minor": 5
}
